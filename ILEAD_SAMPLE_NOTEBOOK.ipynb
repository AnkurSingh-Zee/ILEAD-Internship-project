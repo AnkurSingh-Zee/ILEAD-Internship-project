{
  "nbformat": 4,
  "nbformat_minor": 0,
  "metadata": {
    "colab": {
      "name": "ILEAD_SAMPLE_NOTEBOOK.ipynb",
      "provenance": []
    },
    "kernelspec": {
      "name": "python3",
      "display_name": "Python 3"
    },
    "language_info": {
      "name": "python"
    }
  },
  "cells": [
    {
      "cell_type": "code",
      "execution_count": null,
      "metadata": {
        "id": "71-WaPlqJ27A"
      },
      "outputs": [],
      "source": [
        ""
      ]
    },
    {
      "cell_type": "markdown",
      "source": [
        "Sample notebook to test repo"
      ],
      "metadata": {
        "id": "X8kzyxz5KA5r"
      }
    }
  ]
}