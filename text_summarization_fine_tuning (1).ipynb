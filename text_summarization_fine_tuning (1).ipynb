{
  "nbformat": 4,
  "nbformat_minor": 0,
  "metadata": {
    "colab": {
      "name": "text summarization fine tuning.ipynb",
      "provenance": [],
      "collapsed_sections": []
    },
    "kernelspec": {
      "name": "python3",
      "display_name": "Python 3"
    },
    "language_info": {
      "name": "python"
    },
    "accelerator": "GPU"
  },
  "cells": [
    {
      "cell_type": "code",
      "source": [
        ""
      ],
      "metadata": {
        "id": "1Upb8RhPCEiV"
      },
      "execution_count": null,
      "outputs": []
    },
    {
      "cell_type": "markdown",
      "source": [
        "Project on text summarization-\n",
        "by Ashmita Bhattacharjee\n",
        "along with Ritashree Dey and Priyanka Sarkar"
      ],
      "metadata": {
        "id": "LZREEi3hCGfk"
      }
    },
    {
      "cell_type": "code",
      "metadata": {
        "colab": {
          "base_uri": "https://localhost:8080/"
        },
        "id": "M9-NEL09xFtY",
        "outputId": "06af7d46-254f-4773-9ce2-62dcc98c5285"
      },
      "source": [
        "from google.colab import drive\n",
        "drive.mount('/content/gdrive')\n"
      ],
      "execution_count": null,
      "outputs": [
        {
          "output_type": "stream",
          "name": "stdout",
          "text": [
            "Mounted at /content/gdrive\n"
          ]
        }
      ]
    },
    {
      "cell_type": "code",
      "source": [
        "torch.cuda.empty_cache()"
      ],
      "metadata": {
        "id": "1pOHu6xfSVwd"
      },
      "execution_count": null,
      "outputs": []
    },
    {
      "cell_type": "code",
      "metadata": {
        "id": "0J-v39DFxgOA"
      },
      "source": [
        "import torch\n",
        "import pandas as pd\n",
        "df= pd.read_csv('/content/gdrive/MyDrive/text summarization zee media/train.csv', lineterminator='\\n')"
      ],
      "execution_count": null,
      "outputs": []
    },
    {
      "cell_type": "code",
      "metadata": {
        "id": "CKTE7P6dR_0g",
        "colab": {
          "base_uri": "https://localhost:8080/",
          "height": 206
        },
        "outputId": "23a4a733-023d-4d48-acc4-1f6c7859a4ea"
      },
      "source": [
        "df1=df.head(100)\n",
        "df1.head()"
      ],
      "execution_count": null,
      "outputs": [
        {
          "output_type": "execute_result",
          "data": {
            "text/html": [
              "<div>\n",
              "<style scoped>\n",
              "    .dataframe tbody tr th:only-of-type {\n",
              "        vertical-align: middle;\n",
              "    }\n",
              "\n",
              "    .dataframe tbody tr th {\n",
              "        vertical-align: top;\n",
              "    }\n",
              "\n",
              "    .dataframe thead th {\n",
              "        text-align: right;\n",
              "    }\n",
              "</style>\n",
              "<table border=\"1\" class=\"dataframe\">\n",
              "  <thead>\n",
              "    <tr style=\"text-align: right;\">\n",
              "      <th></th>\n",
              "      <th>headline</th>\n",
              "      <th>summary</th>\n",
              "      <th>article</th>\n",
              "    </tr>\n",
              "  </thead>\n",
              "  <tbody>\n",
              "    <tr>\n",
              "      <th>0</th>\n",
              "      <td>उत्तर भारत में शीत लहर जारी, लेह में पारा सात ...</td>\n",
              "      <td>NaN</td>\n",
              "      <td>उत्तर भारत में शीत लहर जारी है और पहाड़ी क्षेत...</td>\n",
              "    </tr>\n",
              "    <tr>\n",
              "      <th>1</th>\n",
              "      <td>यमन : विद्रोहियों के कब्जे वाले ताएज शहर के नि...</td>\n",
              "      <td>NaN</td>\n",
              "      <td>यमन सरकार के समर्थक बलों के विद्रोहियों के कब्...</td>\n",
              "    </tr>\n",
              "    <tr>\n",
              "      <th>2</th>\n",
              "      <td>केन्या में आतंकियों ने बस को अगवा कर 28 लोगों ...</td>\n",
              "      <td>NaN</td>\n",
              "      <td>केन्या के उत्तर में, सोमालिया के अल-शबाब गुट क...</td>\n",
              "    </tr>\n",
              "    <tr>\n",
              "      <th>3</th>\n",
              "      <td>रिम करेगा दो हजार कर्मचारियों की छंटनी</td>\n",
              "      <td>ब्लैकबेरी हैंडसेट बनाने वाली कनाडा की कंपनी रि...</td>\n",
              "      <td>ब्लैकबेरी हैंडसेट बनाने वाली कनाडा की कंपनी रि...</td>\n",
              "    </tr>\n",
              "    <tr>\n",
              "      <th>4</th>\n",
              "      <td>Puducherry: उपराज्यपाल किरण बेदी से हुआ विवाद ...</td>\n",
              "      <td>NaN</td>\n",
              "      <td>केंद्र शासित प्रदेश पुडुचेरी के मुख्यमंत्री  व...</td>\n",
              "    </tr>\n",
              "  </tbody>\n",
              "</table>\n",
              "</div>"
            ],
            "text/plain": [
              "                                            headline  ...                                            article\n",
              "0  उत्तर भारत में शीत लहर जारी, लेह में पारा सात ...  ...  उत्तर भारत में शीत लहर जारी है और पहाड़ी क्षेत...\n",
              "1  यमन : विद्रोहियों के कब्जे वाले ताएज शहर के नि...  ...  यमन सरकार के समर्थक बलों के विद्रोहियों के कब्...\n",
              "2  केन्या में आतंकियों ने बस को अगवा कर 28 लोगों ...  ...  केन्या के उत्तर में, सोमालिया के अल-शबाब गुट क...\n",
              "3           रिम करेगा दो हजार कर्मचारियों की छंटनी    ...  ब्लैकबेरी हैंडसेट बनाने वाली कनाडा की कंपनी रि...\n",
              "4  Puducherry: उपराज्यपाल किरण बेदी से हुआ विवाद ...  ...  केंद्र शासित प्रदेश पुडुचेरी के मुख्यमंत्री  व...\n",
              "\n",
              "[5 rows x 3 columns]"
            ]
          },
          "metadata": {},
          "execution_count": 6
        }
      ]
    },
    {
      "cell_type": "code",
      "metadata": {
        "id": "yeo3P9122x9p"
      },
      "source": [
        "X= list(df1['article'])\n",
        "y= list(df1['headline'])"
      ],
      "execution_count": null,
      "outputs": []
    },
    {
      "cell_type": "code",
      "metadata": {
        "id": "TNhxrroLdo7I"
      },
      "source": [
        "%%capture\n",
        "!pip install git+https://github.com/neuml/txtai#egg=txtai[pipeline]"
      ],
      "execution_count": null,
      "outputs": []
    },
    {
      "cell_type": "code",
      "metadata": {
        "id": "r-83qr9odJFG"
      },
      "source": [
        "from txtai.pipeline import Translation\n",
        "\n",
        "# Create translation model\n",
        "translate = Translation()\n",
        "translate(df1.headline[1], \"en\")"
      ],
      "execution_count": null,
      "outputs": []
    },
    {
      "cell_type": "code",
      "metadata": {
        "id": "NPPHxv9ciX9q"
      },
      "source": [
        "Xbatch1=translate(list(df1.headline[:100]),'en')"
      ],
      "execution_count": null,
      "outputs": []
    },
    {
      "cell_type": "code",
      "metadata": {
        "id": "Z5hlwSk-lAew"
      },
      "source": [
        "ybatch1=trans_article=translate(list(df1.article[:10][:512]),'en')\n",
        "ybatch2=trans_article=translate(list(df1.article[10:20][:512]),'en')\n",
        "ybatch3=trans_article=translate(list(df1.article[20:30][:512]),'en')\n",
        "ybatch4=trans_article=translate(list(df1.article[30:40][:512]),'en')\n",
        "ybatch5=trans_article=translate(list(df1.article[40:50][:512]),'en')\n",
        "ybatch6=trans_article=translate(list(df1.article[50:60][:512]),'en')\n",
        "ybatch7=trans_article=translate(list(df1.article[60:70][:512]),'en')\n",
        "ybatch8=trans_article=translate(list(df1.article[70:80][:512]),'en')\n",
        "ybatch9=trans_article=translate(list(df1.article[80:90][:512]),'en')\n",
        "ybatch10=trans_article=translate(list(df1.article[90:][:512]),'en')"
      ],
      "execution_count": null,
      "outputs": []
    },
    {
      "cell_type": "code",
      "metadata": {
        "id": "AGwiFEDinSr2"
      },
      "source": [
        "ybatchfinal=ybatch1+ybatch2+ybatch3+ybatch4+ybatch5+ybatch6+ybatch7+ybatch8+ybatch9+ybatch10"
      ],
      "execution_count": null,
      "outputs": []
    },
    {
      "cell_type": "code",
      "metadata": {
        "id": "RZtWHDsA4T-m"
      },
      "source": [
        "df2 = pd.DataFrame(list(zip(Xbatch1, ybatchfinal)),\n",
        "               columns =['Article', 'Heading'])\n",
        "df2.head()"
      ],
      "execution_count": null,
      "outputs": []
    },
    {
      "cell_type": "code",
      "metadata": {
        "id": "x-eQztssz9x_"
      },
      "source": [
        "df2.to_csv('translated 100 articles.csv')"
      ],
      "execution_count": null,
      "outputs": []
    },
    {
      "cell_type": "code",
      "source": [
        "import torch\n",
        "torch.cuda.memory_summary(device=None, abbreviated=False)"
      ],
      "metadata": {
        "id": "bXt2h7ut8DAf"
      },
      "execution_count": null,
      "outputs": []
    },
    {
      "cell_type": "code",
      "metadata": {
        "id": "xMTd8mQERfby",
        "colab": {
          "base_uri": "https://localhost:8080/"
        },
        "outputId": "7d0b66f3-6e95-4668-ce75-058a2684d8c1"
      },
      "source": [
        "!pip install ohmeow-blurr -q\n",
        "!pip install bert-score -q\n",
        "\n",
        "import pandas as pd\n",
        "from fastai.text.all import *\n",
        "from transformers import *\n",
        "from blurr.data.all import *\n",
        "from blurr.modeling.all import *"
      ],
      "execution_count": null,
      "outputs": [
        {
          "output_type": "stream",
          "name": "stdout",
          "text": [
            "\u001b[?25l\r\u001b[K     |███▋                            | 10 kB 19.7 MB/s eta 0:00:01\r\u001b[K     |███████▏                        | 20 kB 11.7 MB/s eta 0:00:01\r\u001b[K     |██████████▊                     | 30 kB 9.1 MB/s eta 0:00:01\r\u001b[K     |██████████████▍                 | 40 kB 8.2 MB/s eta 0:00:01\r\u001b[K     |██████████████████              | 51 kB 5.2 MB/s eta 0:00:01\r\u001b[K     |█████████████████████▌          | 61 kB 5.7 MB/s eta 0:00:01\r\u001b[K     |█████████████████████████       | 71 kB 5.7 MB/s eta 0:00:01\r\u001b[K     |████████████████████████████▊   | 81 kB 6.3 MB/s eta 0:00:01\r\u001b[K     |████████████████████████████████| 91 kB 3.9 MB/s \n",
            "\u001b[K     |████████████████████████████████| 43 kB 1.9 MB/s \n",
            "\u001b[K     |████████████████████████████████| 1.2 MB 30.2 MB/s \n",
            "\u001b[K     |████████████████████████████████| 298 kB 23.4 MB/s \n",
            "\u001b[K     |████████████████████████████████| 3.3 MB 37.3 MB/s \n",
            "\u001b[K     |████████████████████████████████| 189 kB 47.4 MB/s \n",
            "\u001b[K     |████████████████████████████████| 56 kB 4.2 MB/s \n",
            "\u001b[K     |████████████████████████████████| 895 kB 45.7 MB/s \n",
            "\u001b[K     |████████████████████████████████| 61 kB 434 kB/s \n",
            "\u001b[K     |████████████████████████████████| 3.3 MB 44.8 MB/s \n",
            "\u001b[K     |████████████████████████████████| 596 kB 48.6 MB/s \n",
            "\u001b[K     |████████████████████████████████| 243 kB 48.9 MB/s \n",
            "\u001b[K     |████████████████████████████████| 1.1 MB 44.1 MB/s \n",
            "\u001b[K     |████████████████████████████████| 132 kB 49.5 MB/s \n",
            "\u001b[K     |████████████████████████████████| 271 kB 48.6 MB/s \n",
            "\u001b[K     |████████████████████████████████| 192 kB 48.8 MB/s \n",
            "\u001b[K     |████████████████████████████████| 160 kB 43.6 MB/s \n",
            "\u001b[?25h  Building wheel for seqeval (setup.py) ... \u001b[?25l\u001b[?25hdone\n",
            "\u001b[K     |████████████████████████████████| 59 kB 3.3 MB/s \n",
            "\u001b[?25h"
          ]
        }
      ]
    },
    {
      "cell_type": "code",
      "metadata": {
        "id": "7OP6m2zBR_35"
      },
      "source": [
        "#Import the pretrained model\n",
        "pretrained_model_name = \"sshleifer/distilbart-cnn-12-6\"\n",
        "hf_arch, hf_config, hf_tokenizer, hf_model = BLURR.get_hf_objects(pretrained_model_name, \n",
        "                                                                  model_cls=BartForConditionalGeneration)\n",
        "\n",
        "#Create mini-batch and define parameters\n",
        "hf_batch_tfm = HF_Seq2SeqBeforeBatchTransform(hf_arch, hf_config, hf_tokenizer, hf_model, \n",
        "    task='summarization',\n",
        "    text_gen_kwargs=\n",
        " {'max_length': 150,'min_length': 56,'do_sample': False, 'early_stopping': True, 'num_beams': 4, 'temperature': 1.0, \n",
        "  'top_k': 50, 'top_p': 1.0, 'repetition_penalty': 1.0, 'bad_words_ids': None, 'bos_token_id': 0, 'pad_token_id': 1,\n",
        " 'eos_token_id': 2, 'length_penalty': 2.0, 'no_repeat_ngram_size': 3, 'encoder_no_repeat_ngram_size': 0,\n",
        " 'num_return_sequences': 1, 'decoder_start_token_id': 2, 'use_cache': True, 'num_beam_groups': 1,\n",
        " 'diversity_penalty': 0.0, 'output_attentions': False, 'output_hidden_states': False, 'output_scores': False,\n",
        " 'return_dict_in_generate': False, 'forced_bos_token_id': 0, 'forced_eos_token_id': 2, 'remove_invalid_values': False})\n",
        "\n",
        "\n",
        "#Prepare data for training\n",
        "blocks = (HF_Seq2SeqBlock(before_batch_tfm=hf_batch_tfm), noop)\n",
        "dblock = DataBlock(blocks=blocks, get_x=ColReader('Article'), get_y=ColReader('Heading'), splitter=RandomSplitter())\n",
        "dls = dblock.dataloaders(df2, batch_size = 2)"
      ],
      "execution_count": null,
      "outputs": []
    },
    {
      "cell_type": "code",
      "metadata": {
        "id": "THEut14hR_xQ"
      },
      "source": [
        "#Define performance metrics\n",
        "seq2seq_metrics = {\n",
        "        'rouge': {\n",
        "            'compute_kwargs': { 'rouge_types': [\"rouge1\", \"rouge2\", \"rougeL\"], 'use_stemmer': True },\n",
        "            'returns': [\"rouge1\", \"rouge2\", \"rougeL\"]\n",
        "        },\n",
        "        'bertscore': {\n",
        "            'compute_kwargs': { 'lang': 'fr' },\n",
        "            'returns': [\"precision\", \"recall\", \"f1\"]}}\n",
        "\n",
        "#Model\n",
        "model = HF_BaseModelWrapper(hf_model)\n",
        "learn_cbs = [HF_BaseModelCallback]\n",
        "fit_cbs = [HF_Seq2SeqMetricsCallback(custom_metrics=seq2seq_metrics)]\n",
        "\n",
        "#Specify training\n",
        "learn = Learner(dls, model,\n",
        "                opt_func=ranger,loss_func=CrossEntropyLossFlat(),\n",
        "                cbs=learn_cbs,splitter=partial(seq2seq_splitter, arch=hf_arch)).to_fp16()\n",
        "\n",
        "#Create optimizer with default hyper-parameters\n",
        "learn.create_opt() \n",
        "learn.freeze()\n",
        "\n",
        "#Training\n",
        "learn.fit_one_cycle(6, lr_max=3e-5, cbs=fit_cbs)"
      ],
      "execution_count": null,
      "outputs": []
    },
    {
      "cell_type": "code",
      "metadata": {
        "colab": {
          "base_uri": "https://localhost:8080/"
        },
        "id": "MVBxKv7lR_cB",
        "outputId": "d6a9c99f-ccc1-4907-db14-e10c65ebb736"
      },
      "source": [
        "outputs = learn.blurr_generate(df2['Article'][49], early_stopping=False, num_return_sequences=1)\n",
        "\n",
        "#for idx, o in enumerate(outputs):\n",
        "    #print(f'=== Prediction {idx+1} ===\\n{o}\\n')\n",
        "\n",
        "print(outputs)"
      ],
      "execution_count": null,
      "outputs": [
        {
          "output_type": "stream",
          "name": "stdout",
          "text": [
            "[' Falling down the four floor building in Mumbai, four dead . Four people are believed to have been killed in the four-storey building on the fourth floor of the building . The victims include two men and two women who have been in the building at the time of the incident . The building is located in the city of Mumbai, Mumbai, and is located on the second floor of a building in the area of the Mumbai suburb of the city. The building was built in the 1950s and 1961s, and the Mumbai area, the area has been a hub for the construction industry. The Mumbai area was a major hub for construction industry and construction industry development and construction construction. The construction industry has']\n"
          ]
        }
      ]
    },
    {
      "cell_type": "code",
      "metadata": {
        "id": "zZNUP5dcR_Zb",
        "colab": {
          "base_uri": "https://localhost:8080/",
          "height": 53
        },
        "outputId": "af81e615-2cf7-4e02-9068-4f168d3a49c1"
      },
      "source": [
        "df2['Heading'][49]"
      ],
      "execution_count": null,
      "outputs": [
        {
          "output_type": "execute_result",
          "data": {
            "application/vnd.google.colaboratory.intrinsic+json": {
              "type": "string"
            },
            "text/plain": [
              "\"A four - story building in Mumbai has killed four people. This tragedy has taken place in Mumbai's eye market area, and the building is called the All-beneficent building.\""
            ]
          },
          "metadata": {},
          "execution_count": 12
        }
      ]
    },
    {
      "cell_type": "code",
      "metadata": {
        "id": "NyUOkPAIiQ6l"
      },
      "source": [
        ""
      ],
      "execution_count": null,
      "outputs": []
    },
    {
      "cell_type": "code",
      "source": [
        "df2=pd.read_csv('/content/gdrive/MyDrive/text summarization zee media/translated 100 articles.csv')\n",
        "df2.head()"
      ],
      "metadata": {
        "id": "ji1sPNUR-8YL"
      },
      "execution_count": null,
      "outputs": []
    },
    {
      "cell_type": "markdown",
      "metadata": {
        "id": "odINnmznkRfr"
      },
      "source": [
        "translations = {}\n",
        "for column in df.columns:\n",
        "    # unique elements of the column\n",
        "    unique_elements = df[column].unique()\n",
        "    for element in unique_elements:\n",
        "        # add translation to the dictionary\n",
        "        translations[element] = translator.translate(element).text\n",
        "        #time.sleep(1)\n",
        "        translator.raise_Exception = True"
      ]
    },
    {
      "cell_type": "code",
      "metadata": {
        "colab": {
          "base_uri": "https://localhost:8080/"
        },
        "id": "CuYiL3HgC82V",
        "outputId": "5d5c8a97-9a91-4dac-8802-bc0490be1876"
      },
      "source": [
        "import torch\n",
        "device = torch.device('cuda' if torch.cuda.is_available() else 'cpu')\n",
        "print(device)"
      ],
      "execution_count": null,
      "outputs": [
        {
          "output_type": "stream",
          "name": "stdout",
          "text": [
            "cuda\n"
          ]
        }
      ]
    },
    {
      "cell_type": "code",
      "metadata": {
        "id": "22t7j5kxyW6N"
      },
      "source": [
        ""
      ],
      "execution_count": null,
      "outputs": []
    }
  ]
}