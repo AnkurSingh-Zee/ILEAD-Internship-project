{
 "cells": [
  {
   "cell_type": "markdown",
   "id": "b72382fc",
   "metadata": {},
   "source": [
    "### Group Members:\n",
    "### Neha Gupta\n",
    "### Asra Khan\n",
    "\n",
    "## Working on Projects:\n",
    "### 1. Converting Audio to Text in Vernacular Language\n",
    "### 2. Text Summarization\n"
   ]
  },
  {
   "cell_type": "markdown",
   "id": "dddaf2ee",
   "metadata": {},
   "source": [
    "## Converting Hindi Video to Hindi Text"
   ]
  },
  {
   "cell_type": "markdown",
   "id": "e0b1fdef",
   "metadata": {},
   "source": [
    "### Separating Audio from Video"
   ]
  },
  {
   "cell_type": "code",
   "execution_count": 44,
   "id": "9b11d7ac",
   "metadata": {},
   "outputs": [],
   "source": [
    "# IMPORTING THE REQUIRED LIBRAry\n",
    "import moviepy.editor as mp"
   ]
  },
  {
   "cell_type": "code",
   "execution_count": 32,
   "id": "586244db",
   "metadata": {},
   "outputs": [
    {
     "data": {
      "text/plain": [
       "<moviepy.video.io.VideoFileClip.VideoFileClip at 0x28f891857f0>"
      ]
     },
     "execution_count": 32,
     "metadata": {},
     "output_type": "execute_result"
    }
   ],
   "source": [
    "# Loading the video file\n",
    "my_clip = mp.VideoFileClip(\"C:\\\\Users\\\\Neha\\\\Downloads\\\\DNA_SD.mp4\")\n",
    "my_clip"
   ]
  },
  {
   "cell_type": "code",
   "execution_count": 33,
   "id": "60a74e30",
   "metadata": {},
   "outputs": [
    {
     "name": "stdout",
     "output_type": "stream",
     "text": [
      "MoviePy - Writing audio in SD_RESULT.mp3\n"
     ]
    },
    {
     "name": "stderr",
     "output_type": "stream",
     "text": [
      "                                                                                                                       "
     ]
    },
    {
     "name": "stdout",
     "output_type": "stream",
     "text": [
      "MoviePy - Done.\n"
     ]
    },
    {
     "name": "stderr",
     "output_type": "stream",
     "text": [
      "\r"
     ]
    }
   ],
   "source": [
    "#Converting video file to audio file\n",
    "my_clip.audio.write_audiofile(\"SD_RESULT.mp3\")\n"
   ]
  },
  {
   "cell_type": "markdown",
   "id": "ff1e8807",
   "metadata": {},
   "source": [
    "### Converting Audio into Text"
   ]
  },
  {
   "cell_type": "code",
   "execution_count": 34,
   "id": "b4807fe4",
   "metadata": {},
   "outputs": [],
   "source": [
    "\n",
    "import speech_recognition as sr\n",
    "r=sr.Recognizer()\n",
    "import inltk"
   ]
  },
  {
   "cell_type": "code",
   "execution_count": 36,
   "id": "72293db4",
   "metadata": {},
   "outputs": [
    {
     "name": "stdout",
     "output_type": "stream",
     "text": [
      "Working on...\n",
      "अगर आप दूसरे लोगों के मन में अपने देश को लेकर सम्मान का भाव नहीं जगह पाते तो सब बेकार है लेकिन आज आजाद होने के बाद भी हमारे देश के लिए यह भाव संकीर्ण मानसिकता से जन्म नहीं ले रहा है उदाहरण के लिए हमारे देश में बहुत सारे लोग अपने यूट्यूब चैनल के न्यूज़ और अपने फॉलोअर्स बढ़ाने के लिए थोड़ा सा पैसा कमाने के लिए थोड़ी सी सस्ती लोकप्रियता हासिल करने के लिए आज भी अपने देश को बेच सकते हैं अपने देश को गिरवी रख सकते हैं और विदेश में जाकर अपने देश की खुलेआम बुराई कर सकते हैं सिर्फ इसलिए कि अगर उन्होंने ऐसी बुराई की अपने देश की तो शायद कुछ तालियां बजाएंगे यूट्यूब पर कुछ फॉलोअर्स बढ़ जाएंगे और शायद कुछ छोटा मोटा पैसा भी मिल जाएगा और ऐसा लगता है कि यह लोकप्रिय हो जाएंगे जैसा कि एक कॉमेडियन एक्टर वीर दास ने हाल ही में किया है वीर दास\n"
     ]
    }
   ],
   "source": [
    "with sr.AudioFile('SD_RESULT.wav') as source:\n",
    "    audio= r.listen(source)\n",
    "    try:\n",
    "        text= r.recognize_google(audio,language='hi-IN')\n",
    "        print('Working on...')\n",
    "        print(text)\n",
    "    except:\n",
    "        print('Please try again')\n",
    "        "
   ]
  },
  {
   "cell_type": "code",
   "execution_count": 3,
   "id": "1028dbfb",
   "metadata": {},
   "outputs": [
    {
     "name": "stdout",
     "output_type": "stream",
     "text": [
      "Requirement already satisfied: indic-nlp-datasets in c:\\users\\neha\\anaconda3\\lib\\site-packages (0.1.2)\n",
      "Requirement already satisfied: tqdm in c:\\users\\neha\\anaconda3\\lib\\site-packages (from indic-nlp-datasets) (4.62.3)\n",
      "Requirement already satisfied: colorama in c:\\users\\neha\\anaconda3\\lib\\site-packages (from tqdm->indic-nlp-datasets) (0.4.4)\n"
     ]
    }
   ],
   "source": [
    "!pip install indic-nlp-datasets\n",
    "import spacy\n"
   ]
  },
  {
   "cell_type": "code",
   "execution_count": 4,
   "id": "bc6aabe6",
   "metadata": {},
   "outputs": [],
   "source": [
    "text='अगर आप दूसरे लोगों के मन में अपने देश को लेकर सम्मान का भाव नहीं जगह पाते तो सब बेकार है लेकिन आज आजाद होने के बाद भी हमारे देश के लिए यह भाव संकीर्ण मानसिकता से जन्म नहीं ले रहा है उदाहरण के लिए हमारे देश में बहुत सारे लोग अपने यूट्यूब चैनल के न्यूज़ और अपने फॉलोअर्स बढ़ाने के लिए थोड़ा सा पैसा कमाने के लिए थोड़ी सी सस्ती लोकप्रियता हासिल करने के लिए आज भी अपने देश को बेच सकते हैं अपने देश को गिरवी रख सकते हैं और विदेश में जाकर अपने देश की खुलेआम बुराई कर सकते हैं सिर्फ इसलिए कि अगर उन्होंने ऐसी बुराई की अपने देश की तो शायद कुछ तालियां बजाएंगे यूट्यूब पर कुछ फॉलोअर्स बढ़ जाएंगे और शायद कुछ छोटा मोटा पैसा भी मिल जाएगा और ऐसा लगता है कि यह लोकप्रिय हो जाएंगे जैसा कि एक कॉमेडियन एक्टर वीर दास ने हाल ही में किया है वीर दास'"
   ]
  },
  {
   "cell_type": "code",
   "execution_count": 11,
   "id": "9aef9cda",
   "metadata": {},
   "outputs": [
    {
     "ename": "ImportError",
     "evalue": "cannot import name 'hindi' from 'spacy.lang.hi' (C:\\Users\\Neha\\anaconda3\\lib\\site-packages\\spacy\\lang\\hi\\__init__.py)",
     "output_type": "error",
     "traceback": [
      "\u001b[1;31m---------------------------------------------------------------------------\u001b[0m",
      "\u001b[1;31mImportError\u001b[0m                               Traceback (most recent call last)",
      "\u001b[1;32m~\\AppData\\Local\\Temp/ipykernel_16444/664883784.py\u001b[0m in \u001b[0;36m<module>\u001b[1;34m\u001b[0m\n\u001b[1;32m----> 1\u001b[1;33m \u001b[1;32mfrom\u001b[0m \u001b[0mspacy\u001b[0m\u001b[1;33m.\u001b[0m\u001b[0mlang\u001b[0m\u001b[1;33m.\u001b[0m\u001b[0mhi\u001b[0m \u001b[1;32mimport\u001b[0m \u001b[0mhindi\u001b[0m\u001b[1;33m\u001b[0m\u001b[1;33m\u001b[0m\u001b[0m\n\u001b[0m",
      "\u001b[1;31mImportError\u001b[0m: cannot import name 'hindi' from 'spacy.lang.hi' (C:\\Users\\Neha\\anaconda3\\lib\\site-packages\\spacy\\lang\\hi\\__init__.py)"
     ]
    }
   ],
   "source": [
    "from spacy.lang.hi import hindi"
   ]
  },
  {
   "cell_type": "markdown",
   "id": "aeb59f80",
   "metadata": {},
   "source": [
    "## Converting Bengali Video To Bengali Text"
   ]
  },
  {
   "cell_type": "code",
   "execution_count": 45,
   "id": "dd9b11db",
   "metadata": {},
   "outputs": [
    {
     "data": {
      "text/plain": [
       "<moviepy.video.io.VideoFileClip.VideoFileClip at 0x1aecac49730>"
      ]
     },
     "execution_count": 45,
     "metadata": {},
     "output_type": "execute_result"
    }
   ],
   "source": [
    "my_clip = mp.VideoFileClip(\"C:\\\\Users\\\\Neha\\\\Downloads\\\\BCCI.mp4\")\n",
    "my_clip"
   ]
  },
  {
   "cell_type": "code",
   "execution_count": 46,
   "id": "2726470d",
   "metadata": {},
   "outputs": [
    {
     "name": "stdout",
     "output_type": "stream",
     "text": [
      "MoviePy - Writing audio in BCCI_RESULT.mp3\n"
     ]
    },
    {
     "name": "stderr",
     "output_type": "stream",
     "text": [
      "                                                                                                                       "
     ]
    },
    {
     "name": "stdout",
     "output_type": "stream",
     "text": [
      "MoviePy - Done.\n"
     ]
    },
    {
     "name": "stderr",
     "output_type": "stream",
     "text": [
      "\r"
     ]
    }
   ],
   "source": [
    "my_clip.audio.write_audiofile(\"BCCI_RESULT.mp3\")"
   ]
  },
  {
   "cell_type": "code",
   "execution_count": 50,
   "id": "8580831a",
   "metadata": {},
   "outputs": [],
   "source": [
    "r=sr.Recognizer()"
   ]
  },
  {
   "cell_type": "code",
   "execution_count": 54,
   "id": "2d82f133",
   "metadata": {},
   "outputs": [
    {
     "name": "stdout",
     "output_type": "stream",
     "text": [
      "Working on...\n",
      "মনোজগৎ আপনাদের সঙ্গে রয়েছে শর্মিষ্ঠা কালীঘাটে ভারত-নিউজিল্যান্ড ম্যাচের আগে নিউজ এইট্টিন সৌরভ গঙ্গোপাধ্যায় শুনুন\n"
     ]
    }
   ],
   "source": [
    "with sr.AudioFile('BCCI_RESULT.wav') as source:\n",
    "    audio= r.listen(source)\n",
    "    try:\n",
    "        text= r.recognize_google(audio,language='bn-IN')\n",
    "        print('Working on...')\n",
    "        print(text)\n",
    "    except:\n",
    "        print('Please try again')"
   ]
  },
  {
   "cell_type": "markdown",
   "id": "744475c0",
   "metadata": {},
   "source": [
    "## Converting English Video To English Text"
   ]
  },
  {
   "cell_type": "code",
   "execution_count": 7,
   "id": "b85d0f47",
   "metadata": {},
   "outputs": [],
   "source": [
    "import moviepy.editor as mp\n",
    "import speech_recognition as sr"
   ]
  },
  {
   "cell_type": "code",
   "execution_count": 11,
   "id": "8832b312",
   "metadata": {},
   "outputs": [
    {
     "data": {
      "text/plain": [
       "<moviepy.video.io.VideoFileClip.VideoFileClip at 0x1c0f583ffd0>"
      ]
     },
     "execution_count": 11,
     "metadata": {},
     "output_type": "execute_result"
    }
   ],
   "source": [
    "my_clip = mp.VideoFileClip(\"C:\\\\Users\\\\Neha\\\\Downloads\\\\English.mp4\")\n",
    "my_clip"
   ]
  },
  {
   "cell_type": "code",
   "execution_count": 12,
   "id": "0ad11bbe",
   "metadata": {},
   "outputs": [
    {
     "name": "stdout",
     "output_type": "stream",
     "text": [
      "MoviePy - Writing audio in EV_1_RESULT.mp3\n"
     ]
    },
    {
     "name": "stderr",
     "output_type": "stream",
     "text": [
      "                                                                                                                       "
     ]
    },
    {
     "name": "stdout",
     "output_type": "stream",
     "text": [
      "MoviePy - Done.\n"
     ]
    },
    {
     "name": "stderr",
     "output_type": "stream",
     "text": [
      "\r"
     ]
    }
   ],
   "source": [
    "my_clip.audio.write_audiofile(\"EV_1_RESULT.mp3\")"
   ]
  },
  {
   "cell_type": "code",
   "execution_count": 8,
   "id": "cfe0872e",
   "metadata": {},
   "outputs": [],
   "source": [
    "r=sr.Recognizer()"
   ]
  },
  {
   "cell_type": "code",
   "execution_count": 13,
   "id": "82a8c45a",
   "metadata": {},
   "outputs": [
    {
     "name": "stdout",
     "output_type": "stream",
     "text": [
      "Working on...\n",
      "we have been constantly talking about the highest prices across the segment from your petrol diesel gas to even the basic products at your buying a soaps and shampoos in your skills to the edible oil your vegetables and what not and the impact of all of the together this festival season joining me right now for a conversation on this on rising prices on inflation and its impact on Economy the former finance minister of this country Mr Chidambaram thank you so much for speaking with us to see in which to Bhagwan Scuba Chemicals and fertilizers Mere comment recently saying when is the outrage on fuel price hike sister Congress which is talking about it there is no outrage your response to that\n"
     ]
    }
   ],
   "source": [
    "with sr.AudioFile('EV_1_RESULT.wav') as source:\n",
    "    audio= r.listen(source)\n",
    "    try:\n",
    "        text= r.recognize_google(audio)\n",
    "        print('Working on...')\n",
    "        print(text)\n",
    "    except:\n",
    "        print('Please try again')"
   ]
  },
  {
   "cell_type": "markdown",
   "id": "49215247",
   "metadata": {},
   "source": [
    "## Named Entity Recognition"
   ]
  },
  {
   "cell_type": "code",
   "execution_count": 12,
   "id": "34568e4e",
   "metadata": {},
   "outputs": [],
   "source": [
    "import spacy\n",
    "nlp=spacy.load(\"en_core_web_sm\")"
   ]
  },
  {
   "cell_type": "code",
   "execution_count": 13,
   "id": "4acd5e6b",
   "metadata": {},
   "outputs": [],
   "source": [
    "text='we have been constantly talking about the highest prices across the segment from your petrol diesel gas to even the basic products at your buying a soaps and shampoos in your skills to the edible oil your vegetables and what not and the impact of all of the together this festival season joining me right now for a conversation on this on rising prices on inflation and its impact on Economy the former finance minister of this country Mr Chidambaram thank you so much for speaking with us to see in which to Bhagwan Scuba Chemicals and fertilizers Mere comment recently saying when is the outrage on fuel price hike sister Congress which is talking about it there is no outrage your response to that'"
   ]
  },
  {
   "cell_type": "code",
   "execution_count": 14,
   "id": "d3d8d54f",
   "metadata": {},
   "outputs": [],
   "source": [
    "doc=nlp(text)"
   ]
  },
  {
   "cell_type": "code",
   "execution_count": 18,
   "id": "52383371",
   "metadata": {},
   "outputs": [
    {
     "name": "stdout",
     "output_type": "stream",
     "text": [
      "this festival season DATE\n",
      "Chidambaram PERSON\n",
      "Bhagwan Scuba Chemicals ORG\n",
      "Congress ORG\n"
     ]
    }
   ],
   "source": [
    "for entity in doc.ents:\n",
    "    print(entity.text,entity.label_)"
   ]
  },
  {
   "cell_type": "code",
   "execution_count": null,
   "id": "3b6d98bd",
   "metadata": {},
   "outputs": [
    {
     "data": {
      "text/html": [
       "<span class=\"tex2jax_ignore\"><!DOCTYPE html>\n",
       "<html lang=\"en\">\n",
       "    <head>\n",
       "        <title>displaCy</title>\n",
       "    </head>\n",
       "\n",
       "    <body style=\"font-size: 16px; font-family: -apple-system, BlinkMacSystemFont, 'Segoe UI', Helvetica, Arial, sans-serif, 'Apple Color Emoji', 'Segoe UI Emoji', 'Segoe UI Symbol'; padding: 4rem 2rem; direction: ltr\">\n",
       "<figure style=\"margin-bottom: 6rem\">\n",
       "<div class=\"entities\" style=\"line-height: 2.5; direction: ltr\">we have been constantly talking about the highest prices across the segment from your petrol diesel gas to even the basic products at your buying a soaps and shampoos in your skills to the edible oil your vegetables and what not and the impact of all of the together \n",
       "<mark class=\"entity\" style=\"background: #bfe1d9; padding: 0.45em 0.6em; margin: 0 0.25em; line-height: 1; border-radius: 0.35em;\">\n",
       "    this festival season\n",
       "    <span style=\"font-size: 0.8em; font-weight: bold; line-height: 1; border-radius: 0.35em; vertical-align: middle; margin-left: 0.5rem\">DATE</span>\n",
       "</mark>\n",
       " joining me right now for a conversation on this on rising prices on inflation and its impact on Economy the former finance minister of this country Mr \n",
       "<mark class=\"entity\" style=\"background: #aa9cfc; padding: 0.45em 0.6em; margin: 0 0.25em; line-height: 1; border-radius: 0.35em;\">\n",
       "    Chidambaram\n",
       "    <span style=\"font-size: 0.8em; font-weight: bold; line-height: 1; border-radius: 0.35em; vertical-align: middle; margin-left: 0.5rem\">PERSON</span>\n",
       "</mark>\n",
       " thank you so much for speaking with us to see in which to \n",
       "<mark class=\"entity\" style=\"background: #7aecec; padding: 0.45em 0.6em; margin: 0 0.25em; line-height: 1; border-radius: 0.35em;\">\n",
       "    Bhagwan Scuba Chemicals\n",
       "    <span style=\"font-size: 0.8em; font-weight: bold; line-height: 1; border-radius: 0.35em; vertical-align: middle; margin-left: 0.5rem\">ORG</span>\n",
       "</mark>\n",
       " and fertilizers Mere comment recently saying when is the outrage on fuel price hike sister \n",
       "<mark class=\"entity\" style=\"background: #7aecec; padding: 0.45em 0.6em; margin: 0 0.25em; line-height: 1; border-radius: 0.35em;\">\n",
       "    Congress\n",
       "    <span style=\"font-size: 0.8em; font-weight: bold; line-height: 1; border-radius: 0.35em; vertical-align: middle; margin-left: 0.5rem\">ORG</span>\n",
       "</mark>\n",
       " which is talking about it there is no outrage your response to that</div>\n",
       "</figure>\n",
       "</body>\n",
       "</html></span>"
      ],
      "text/plain": [
       "<IPython.core.display.HTML object>"
      ]
     },
     "metadata": {},
     "output_type": "display_data"
    },
    {
     "name": "stdout",
     "output_type": "stream",
     "text": [
      "\n",
      "Using the 'ent' visualizer\n",
      "Serving on http://0.0.0.0:5000 ...\n",
      "\n"
     ]
    }
   ],
   "source": [
    "from spacy import displacy\n",
    "displacy.serve(doc, style=\"ent\")"
   ]
  },
  {
   "cell_type": "code",
   "execution_count": 19,
   "id": "8ed4ea44",
   "metadata": {},
   "outputs": [
    {
     "data": {
      "text/plain": [
       "'Companies, agencies, institutions, etc.'"
      ]
     },
     "execution_count": 19,
     "metadata": {},
     "output_type": "execute_result"
    }
   ],
   "source": [
    "spacy.explain('ORG')"
   ]
  },
  {
   "cell_type": "markdown",
   "id": "3c05264c",
   "metadata": {},
   "source": [
    "## Text Summarization"
   ]
  },
  {
   "cell_type": "code",
   "execution_count": 15,
   "id": "e20885e3",
   "metadata": {},
   "outputs": [
    {
     "name": "stdout",
     "output_type": "stream",
     "text": [
      "['we', 'have', 'been', 'constantly', 'talking', 'about', 'the', 'highest', 'prices', 'across', 'the', 'segment', 'from', 'your', 'petrol', 'diesel', 'gas', 'to', 'even', 'the', 'basic', 'products', 'at', 'your', 'buying', 'a', 'soaps', 'and', 'shampoos', 'in', 'your', 'skills', 'to', 'the', 'edible', 'oil', 'your', 'vegetables', 'and', 'what', 'not', 'and', 'the', 'impact', 'of', 'all', 'of', 'the', 'together', 'this', 'festival', 'season', 'joining', 'me', 'right', 'now', 'for', 'a', 'conversation', 'on', 'this', 'on', 'rising', 'prices', 'on', 'inflation', 'and', 'its', 'impact', 'on', 'Economy', 'the', 'former', 'finance', 'minister', 'of', 'this', 'country', 'Mr', 'Chidambaram', 'thank', 'you', 'so', 'much', 'for', 'speaking', 'with', 'us', 'to', 'see', 'in', 'which', 'to', 'Bhagwan', 'Scuba', 'Chemicals', 'and', 'fertilizers', 'Mere', 'comment', 'recently', 'saying', 'when', 'is', 'the', 'outrage', 'on', 'fuel', 'price', 'hike', 'sister', 'Congress', 'which', 'is', 'talking', 'about', 'it', 'there', 'is', 'no', 'outrage', 'your', 'response', 'to', 'that']\n"
     ]
    }
   ],
   "source": [
    "tokens=[token.text for token in doc]\n",
    "print(tokens)"
   ]
  },
  {
   "cell_type": "code",
   "execution_count": 17,
   "id": "0e4711cc",
   "metadata": {},
   "outputs": [],
   "source": [
    "from string import punctuation"
   ]
  },
  {
   "cell_type": "code",
   "execution_count": 18,
   "id": "a84ae126",
   "metadata": {},
   "outputs": [
    {
     "data": {
      "text/plain": [
       "'!\"#$%&\\'()*+,-./:;<=>?@[\\\\]^_`{|}~'"
      ]
     },
     "execution_count": 18,
     "metadata": {},
     "output_type": "execute_result"
    }
   ],
   "source": [
    "punctuation"
   ]
  },
  {
   "cell_type": "code",
   "execution_count": 19,
   "id": "94a76c8f",
   "metadata": {},
   "outputs": [],
   "source": [
    "from transformers import PegasusForConditionalGeneration, PegasusTokenizer"
   ]
  },
  {
   "cell_type": "code",
   "execution_count": 20,
   "id": "aae96edd",
   "metadata": {},
   "outputs": [
    {
     "data": {
      "application/vnd.jupyter.widget-view+json": {
       "model_id": "df8246729f914e43b1ae57da916e88c2",
       "version_major": 2,
       "version_minor": 0
      },
      "text/plain": [
       "Downloading:   0%|          | 0.00/1.82M [00:00<?, ?B/s]"
      ]
     },
     "metadata": {},
     "output_type": "display_data"
    },
    {
     "data": {
      "application/vnd.jupyter.widget-view+json": {
       "model_id": "bf68b9c414c644b1b49a580bd4f51062",
       "version_major": 2,
       "version_minor": 0
      },
      "text/plain": [
       "Downloading:   0%|          | 0.00/65.0 [00:00<?, ?B/s]"
      ]
     },
     "metadata": {},
     "output_type": "display_data"
    },
    {
     "data": {
      "application/vnd.jupyter.widget-view+json": {
       "model_id": "e7acb3c5f5ad4784800b75d0ba27d75e",
       "version_major": 2,
       "version_minor": 0
      },
      "text/plain": [
       "Downloading:   0%|          | 0.00/87.0 [00:00<?, ?B/s]"
      ]
     },
     "metadata": {},
     "output_type": "display_data"
    },
    {
     "data": {
      "application/vnd.jupyter.widget-view+json": {
       "model_id": "d4bf91069f334a31ade7755b7d2fe8ba",
       "version_major": 2,
       "version_minor": 0
      },
      "text/plain": [
       "Downloading:   0%|          | 0.00/3.36M [00:00<?, ?B/s]"
      ]
     },
     "metadata": {},
     "output_type": "display_data"
    },
    {
     "data": {
      "application/vnd.jupyter.widget-view+json": {
       "model_id": "758611b57b9a4ec683ec2c7a36882d79",
       "version_major": 2,
       "version_minor": 0
      },
      "text/plain": [
       "Downloading:   0%|          | 0.00/1.36k [00:00<?, ?B/s]"
      ]
     },
     "metadata": {},
     "output_type": "display_data"
    }
   ],
   "source": [
    "tokenizer= PegasusTokenizer.from_pretrained(\"google/pegasus-xsum\")"
   ]
  },
  {
   "cell_type": "code",
   "execution_count": 21,
   "id": "058e9443",
   "metadata": {},
   "outputs": [
    {
     "data": {
      "application/vnd.jupyter.widget-view+json": {
       "model_id": "85ecaac5a85d4df0842cf8d87e29b8fc",
       "version_major": 2,
       "version_minor": 0
      },
      "text/plain": [
       "Downloading:   0%|          | 0.00/2.12G [00:00<?, ?B/s]"
      ]
     },
     "metadata": {},
     "output_type": "display_data"
    }
   ],
   "source": [
    "model= PegasusForConditionalGeneration.from_pretrained('google/pegasus-xsum')"
   ]
  },
  {
   "cell_type": "code",
   "execution_count": 37,
   "id": "e6c29883",
   "metadata": {},
   "outputs": [],
   "source": [
    "text= \"\"\"\"\n",
    " This summarization technique works by paraphrasing and shortening parts of the source document. \n",
    " The benefit of abstraction being used in text summarization is that it does not struggle with the same grammatical inconsistencies. \n",
    " Also, abstractive text summarization is more natural at summarizing language like humans.\n",
    " It creates new phrases and sentences with only the most relevant information from the text.Abstraction-based summarization is more accurate in capturing the grammatical syntax and context of the text.\n",
    " However, abstraction-based summarization algorithms are harder to develop therefore extraction-based summarization remains the most popular used method. \n",
    " As NLP technology progresses to understand the nuances of language so will the text summarization algorithms to make information more accessible and meaningful to businesses.\n",
    "\"\"\""
   ]
  },
  {
   "cell_type": "code",
   "execution_count": 43,
   "id": "0f4b6a86",
   "metadata": {},
   "outputs": [
    {
     "data": {
      "text/plain": [
       "{'input_ids': tensor([[  198,   182,  5906,  6520,  3884,  3111,   659,   141, 75701,   111,\n",
       "         33896,   972,   113,   109,  1116,  2199,   107,   139,  1280,   113,\n",
       "         24652,   270,   263,   115,  1352,  5906,  6520,  3884,   117,   120,\n",
       "           126,   358,   146,  3718,   122,   109,   310, 34563, 40306,   107,\n",
       "          1308,   108,  7093,  5551,  1352,  5906,  6520,  3884,   117,   154,\n",
       "           710,   134, 48148,  1261,   172,  4095,   107,   168,  3237,   177,\n",
       "          9294,   111,  9750,   122,   209,   109,   205,  1862,   257,   135,\n",
       "           109,  1352,   107, 27423,  2928,   121,   936,  5906,  6520,  3884,\n",
       "           117,   154,  2598,   115,  9649,   109, 34563, 19603,   111,  2956,\n",
       "           113,   109,  1352,   107,   611,   108, 24652,   121,   936,  5906,\n",
       "          6520,  3884,  8970,   127,  4236,   112,  1070,  1923,  9463,   121,\n",
       "           936,  5906,  6520,  3884,  2085,   109,   205,   785,   263,  1356,\n",
       "           107,   398, 36789,   552, 18985,   112,   630,   109, 22598,   113,\n",
       "          1261,   167,   138,   109,  1352,  5906,  6520,  3884,  8970,   112,\n",
       "           193,   257,   154,  2744,   111,  4773,   112,  1098,   107,     1]]), 'attention_mask': tensor([[1, 1, 1, 1, 1, 1, 1, 1, 1, 1, 1, 1, 1, 1, 1, 1, 1, 1, 1, 1, 1, 1, 1, 1,\n",
       "         1, 1, 1, 1, 1, 1, 1, 1, 1, 1, 1, 1, 1, 1, 1, 1, 1, 1, 1, 1, 1, 1, 1, 1,\n",
       "         1, 1, 1, 1, 1, 1, 1, 1, 1, 1, 1, 1, 1, 1, 1, 1, 1, 1, 1, 1, 1, 1, 1, 1,\n",
       "         1, 1, 1, 1, 1, 1, 1, 1, 1, 1, 1, 1, 1, 1, 1, 1, 1, 1, 1, 1, 1, 1, 1, 1,\n",
       "         1, 1, 1, 1, 1, 1, 1, 1, 1, 1, 1, 1, 1, 1, 1, 1, 1, 1, 1, 1, 1, 1, 1, 1,\n",
       "         1, 1, 1, 1, 1, 1, 1, 1, 1, 1, 1, 1, 1, 1, 1, 1, 1, 1, 1, 1, 1, 1, 1, 1,\n",
       "         1, 1, 1, 1, 1, 1]])}"
      ]
     },
     "execution_count": 43,
     "metadata": {},
     "output_type": "execute_result"
    }
   ],
   "source": [
    "tokens=tokenizer(text, truncation=True, padding='longest',return_tensors='pt')\n",
    "tokens"
   ]
  },
  {
   "cell_type": "code",
   "execution_count": 39,
   "id": "696041d3",
   "metadata": {},
   "outputs": [],
   "source": [
    "summary= model.generate(**tokens)"
   ]
  },
  {
   "cell_type": "code",
   "execution_count": 40,
   "id": "7470c53b",
   "metadata": {},
   "outputs": [
    {
     "data": {
      "text/plain": [
       "tensor([[    0,  8543,  5906,  6520,  3884,   117,   114,  3111,   263,   115,\n",
       "          4284,  7148, 11430,   143, 72237,   158,   112,   421,   177,  9294,\n",
       "           111,  9750,   135,  1352,   107,     1]])"
      ]
     },
     "execution_count": 40,
     "metadata": {},
     "output_type": "execute_result"
    }
   ],
   "source": [
    "summary"
   ]
  },
  {
   "cell_type": "code",
   "execution_count": 41,
   "id": "fdc16cd0",
   "metadata": {},
   "outputs": [
    {
     "data": {
      "text/plain": [
       "'Text summarization is a technique used in Natural Language Processing (NLP) to create new phrases and sentences from text.'"
      ]
     },
     "execution_count": 41,
     "metadata": {},
     "output_type": "execute_result"
    }
   ],
   "source": [
    "tokenizer.decode(summary[0])"
   ]
  },
  {
   "cell_type": "code",
   "execution_count": null,
   "id": "ab170971",
   "metadata": {},
   "outputs": [],
   "source": []
  },
  {
   "cell_type": "markdown",
   "id": "4a61a394",
   "metadata": {},
   "source": [
    "## Mp3 to Wav format"
   ]
  },
  {
   "cell_type": "code",
   "execution_count": 47,
   "id": "c559475d",
   "metadata": {},
   "outputs": [
    {
     "ename": "FileNotFoundError",
     "evalue": "[WinError 2] The system cannot find the file specified",
     "output_type": "error",
     "traceback": [
      "\u001b[1;31m---------------------------------------------------------------------------\u001b[0m",
      "\u001b[1;31mFileNotFoundError\u001b[0m                         Traceback (most recent call last)",
      "\u001b[1;32m~\\AppData\\Local\\Temp/ipykernel_16444/1628098675.py\u001b[0m in \u001b[0;36m<module>\u001b[1;34m\u001b[0m\n\u001b[0;32m      2\u001b[0m \u001b[0minput_file\u001b[0m\u001b[1;33m=\u001b[0m\u001b[1;34m'BCCI_RESULT.mp3'\u001b[0m\u001b[1;33m\u001b[0m\u001b[1;33m\u001b[0m\u001b[0m\n\u001b[0;32m      3\u001b[0m \u001b[0moutput_file\u001b[0m\u001b[1;33m=\u001b[0m\u001b[1;34m'result_bcci.wav'\u001b[0m\u001b[1;33m\u001b[0m\u001b[1;33m\u001b[0m\u001b[0m\n\u001b[1;32m----> 4\u001b[1;33m \u001b[0msound\u001b[0m \u001b[1;33m=\u001b[0m \u001b[0mAudioSegment\u001b[0m\u001b[1;33m.\u001b[0m\u001b[0mfrom_mp3\u001b[0m\u001b[1;33m(\u001b[0m\u001b[0minput_file\u001b[0m\u001b[1;33m)\u001b[0m\u001b[1;33m\u001b[0m\u001b[1;33m\u001b[0m\u001b[0m\n\u001b[0m\u001b[0;32m      5\u001b[0m \u001b[0msound\u001b[0m\u001b[1;33m.\u001b[0m\u001b[0mexport\u001b[0m\u001b[1;33m(\u001b[0m\u001b[0moutput_file\u001b[0m\u001b[1;33m,\u001b[0m \u001b[0mformat\u001b[0m\u001b[1;33m=\u001b[0m\u001b[1;34m\"wav\"\u001b[0m\u001b[1;33m)\u001b[0m\u001b[1;33m\u001b[0m\u001b[1;33m\u001b[0m\u001b[0m\n",
      "\u001b[1;32m~\\anaconda3\\lib\\site-packages\\pydub\\audio_segment.py\u001b[0m in \u001b[0;36mfrom_mp3\u001b[1;34m(cls, file, parameters)\u001b[0m\n\u001b[0;32m    794\u001b[0m     \u001b[1;33m@\u001b[0m\u001b[0mclassmethod\u001b[0m\u001b[1;33m\u001b[0m\u001b[1;33m\u001b[0m\u001b[0m\n\u001b[0;32m    795\u001b[0m     \u001b[1;32mdef\u001b[0m \u001b[0mfrom_mp3\u001b[0m\u001b[1;33m(\u001b[0m\u001b[0mcls\u001b[0m\u001b[1;33m,\u001b[0m \u001b[0mfile\u001b[0m\u001b[1;33m,\u001b[0m \u001b[0mparameters\u001b[0m\u001b[1;33m=\u001b[0m\u001b[1;32mNone\u001b[0m\u001b[1;33m)\u001b[0m\u001b[1;33m:\u001b[0m\u001b[1;33m\u001b[0m\u001b[1;33m\u001b[0m\u001b[0m\n\u001b[1;32m--> 796\u001b[1;33m         \u001b[1;32mreturn\u001b[0m \u001b[0mcls\u001b[0m\u001b[1;33m.\u001b[0m\u001b[0mfrom_file\u001b[0m\u001b[1;33m(\u001b[0m\u001b[0mfile\u001b[0m\u001b[1;33m,\u001b[0m \u001b[1;34m'mp3'\u001b[0m\u001b[1;33m,\u001b[0m \u001b[0mparameters\u001b[0m\u001b[1;33m=\u001b[0m\u001b[0mparameters\u001b[0m\u001b[1;33m)\u001b[0m\u001b[1;33m\u001b[0m\u001b[1;33m\u001b[0m\u001b[0m\n\u001b[0m\u001b[0;32m    797\u001b[0m \u001b[1;33m\u001b[0m\u001b[0m\n\u001b[0;32m    798\u001b[0m     \u001b[1;33m@\u001b[0m\u001b[0mclassmethod\u001b[0m\u001b[1;33m\u001b[0m\u001b[1;33m\u001b[0m\u001b[0m\n",
      "\u001b[1;32m~\\anaconda3\\lib\\site-packages\\pydub\\audio_segment.py\u001b[0m in \u001b[0;36mfrom_file\u001b[1;34m(cls, file, format, codec, parameters, start_second, duration, **kwargs)\u001b[0m\n\u001b[0;32m    726\u001b[0m             \u001b[0minfo\u001b[0m \u001b[1;33m=\u001b[0m \u001b[1;32mNone\u001b[0m\u001b[1;33m\u001b[0m\u001b[1;33m\u001b[0m\u001b[0m\n\u001b[0;32m    727\u001b[0m         \u001b[1;32melse\u001b[0m\u001b[1;33m:\u001b[0m\u001b[1;33m\u001b[0m\u001b[1;33m\u001b[0m\u001b[0m\n\u001b[1;32m--> 728\u001b[1;33m             \u001b[0minfo\u001b[0m \u001b[1;33m=\u001b[0m \u001b[0mmediainfo_json\u001b[0m\u001b[1;33m(\u001b[0m\u001b[0morig_file\u001b[0m\u001b[1;33m,\u001b[0m \u001b[0mread_ahead_limit\u001b[0m\u001b[1;33m=\u001b[0m\u001b[0mread_ahead_limit\u001b[0m\u001b[1;33m)\u001b[0m\u001b[1;33m\u001b[0m\u001b[1;33m\u001b[0m\u001b[0m\n\u001b[0m\u001b[0;32m    729\u001b[0m         \u001b[1;32mif\u001b[0m \u001b[0minfo\u001b[0m\u001b[1;33m:\u001b[0m\u001b[1;33m\u001b[0m\u001b[1;33m\u001b[0m\u001b[0m\n\u001b[0;32m    730\u001b[0m             audio_streams = [x for x in info['streams']\n",
      "\u001b[1;32m~\\anaconda3\\lib\\site-packages\\pydub\\utils.py\u001b[0m in \u001b[0;36mmediainfo_json\u001b[1;34m(filepath, read_ahead_limit)\u001b[0m\n\u001b[0;32m    272\u001b[0m \u001b[1;33m\u001b[0m\u001b[0m\n\u001b[0;32m    273\u001b[0m     \u001b[0mcommand\u001b[0m \u001b[1;33m=\u001b[0m \u001b[1;33m[\u001b[0m\u001b[0mprober\u001b[0m\u001b[1;33m,\u001b[0m \u001b[1;34m'-of'\u001b[0m\u001b[1;33m,\u001b[0m \u001b[1;34m'json'\u001b[0m\u001b[1;33m]\u001b[0m \u001b[1;33m+\u001b[0m \u001b[0mcommand_args\u001b[0m\u001b[1;33m\u001b[0m\u001b[1;33m\u001b[0m\u001b[0m\n\u001b[1;32m--> 274\u001b[1;33m     \u001b[0mres\u001b[0m \u001b[1;33m=\u001b[0m \u001b[0mPopen\u001b[0m\u001b[1;33m(\u001b[0m\u001b[0mcommand\u001b[0m\u001b[1;33m,\u001b[0m \u001b[0mstdin\u001b[0m\u001b[1;33m=\u001b[0m\u001b[0mstdin_parameter\u001b[0m\u001b[1;33m,\u001b[0m \u001b[0mstdout\u001b[0m\u001b[1;33m=\u001b[0m\u001b[0mPIPE\u001b[0m\u001b[1;33m,\u001b[0m \u001b[0mstderr\u001b[0m\u001b[1;33m=\u001b[0m\u001b[0mPIPE\u001b[0m\u001b[1;33m)\u001b[0m\u001b[1;33m\u001b[0m\u001b[1;33m\u001b[0m\u001b[0m\n\u001b[0m\u001b[0;32m    275\u001b[0m     \u001b[0moutput\u001b[0m\u001b[1;33m,\u001b[0m \u001b[0mstderr\u001b[0m \u001b[1;33m=\u001b[0m \u001b[0mres\u001b[0m\u001b[1;33m.\u001b[0m\u001b[0mcommunicate\u001b[0m\u001b[1;33m(\u001b[0m\u001b[0minput\u001b[0m\u001b[1;33m=\u001b[0m\u001b[0mstdin_data\u001b[0m\u001b[1;33m)\u001b[0m\u001b[1;33m\u001b[0m\u001b[1;33m\u001b[0m\u001b[0m\n\u001b[0;32m    276\u001b[0m     \u001b[0moutput\u001b[0m \u001b[1;33m=\u001b[0m \u001b[0moutput\u001b[0m\u001b[1;33m.\u001b[0m\u001b[0mdecode\u001b[0m\u001b[1;33m(\u001b[0m\u001b[1;34m\"utf-8\"\u001b[0m\u001b[1;33m,\u001b[0m \u001b[1;34m'ignore'\u001b[0m\u001b[1;33m)\u001b[0m\u001b[1;33m\u001b[0m\u001b[1;33m\u001b[0m\u001b[0m\n",
      "\u001b[1;32m~\\anaconda3\\lib\\subprocess.py\u001b[0m in \u001b[0;36m__init__\u001b[1;34m(self, args, bufsize, executable, stdin, stdout, stderr, preexec_fn, close_fds, shell, cwd, env, universal_newlines, startupinfo, creationflags, restore_signals, start_new_session, pass_fds, user, group, extra_groups, encoding, errors, text, umask)\u001b[0m\n\u001b[0;32m    949\u001b[0m                             encoding=encoding, errors=errors)\n\u001b[0;32m    950\u001b[0m \u001b[1;33m\u001b[0m\u001b[0m\n\u001b[1;32m--> 951\u001b[1;33m             self._execute_child(args, executable, preexec_fn, close_fds,\n\u001b[0m\u001b[0;32m    952\u001b[0m                                 \u001b[0mpass_fds\u001b[0m\u001b[1;33m,\u001b[0m \u001b[0mcwd\u001b[0m\u001b[1;33m,\u001b[0m \u001b[0menv\u001b[0m\u001b[1;33m,\u001b[0m\u001b[1;33m\u001b[0m\u001b[1;33m\u001b[0m\u001b[0m\n\u001b[0;32m    953\u001b[0m                                 \u001b[0mstartupinfo\u001b[0m\u001b[1;33m,\u001b[0m \u001b[0mcreationflags\u001b[0m\u001b[1;33m,\u001b[0m \u001b[0mshell\u001b[0m\u001b[1;33m,\u001b[0m\u001b[1;33m\u001b[0m\u001b[1;33m\u001b[0m\u001b[0m\n",
      "\u001b[1;32m~\\anaconda3\\lib\\subprocess.py\u001b[0m in \u001b[0;36m_execute_child\u001b[1;34m(self, args, executable, preexec_fn, close_fds, pass_fds, cwd, env, startupinfo, creationflags, shell, p2cread, p2cwrite, c2pread, c2pwrite, errread, errwrite, unused_restore_signals, unused_gid, unused_gids, unused_uid, unused_umask, unused_start_new_session)\u001b[0m\n\u001b[0;32m   1418\u001b[0m             \u001b[1;31m# Start the process\u001b[0m\u001b[1;33m\u001b[0m\u001b[1;33m\u001b[0m\u001b[0m\n\u001b[0;32m   1419\u001b[0m             \u001b[1;32mtry\u001b[0m\u001b[1;33m:\u001b[0m\u001b[1;33m\u001b[0m\u001b[1;33m\u001b[0m\u001b[0m\n\u001b[1;32m-> 1420\u001b[1;33m                 hp, ht, pid, tid = _winapi.CreateProcess(executable, args,\n\u001b[0m\u001b[0;32m   1421\u001b[0m                                          \u001b[1;31m# no special security\u001b[0m\u001b[1;33m\u001b[0m\u001b[1;33m\u001b[0m\u001b[0m\n\u001b[0;32m   1422\u001b[0m                                          \u001b[1;32mNone\u001b[0m\u001b[1;33m,\u001b[0m \u001b[1;32mNone\u001b[0m\u001b[1;33m,\u001b[0m\u001b[1;33m\u001b[0m\u001b[1;33m\u001b[0m\u001b[0m\n",
      "\u001b[1;31mFileNotFoundError\u001b[0m: [WinError 2] The system cannot find the file specified"
     ]
    }
   ],
   "source": [
    "from pydub import AudioSegment\n",
    "input_file='BCCI_RESULT.mp3'\n",
    "output_file='result_bcci.wav'\n",
    "sound = AudioSegment.from_mp3(input_file)\n",
    "sound.export(output_file, format=\"wav\")"
   ]
  },
  {
   "cell_type": "code",
   "execution_count": null,
   "id": "20932ef0",
   "metadata": {},
   "outputs": [],
   "source": []
  }
 ],
 "metadata": {
  "kernelspec": {
   "display_name": "Python 3 (ipykernel)",
   "language": "python",
   "name": "python3"
  },
  "language_info": {
   "codemirror_mode": {
    "name": "ipython",
    "version": 3
   },
   "file_extension": ".py",
   "mimetype": "text/x-python",
   "name": "python",
   "nbconvert_exporter": "python",
   "pygments_lexer": "ipython3",
   "version": "3.9.7"
  }
 },
 "nbformat": 4,
 "nbformat_minor": 5
}
